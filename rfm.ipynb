{
 "cells": [
  {
   "cell_type": "code",
   "execution_count": 8,
   "metadata": {},
   "outputs": [],
   "source": [
    "import pymysql\n",
    "#import DataFrame\n",
    "from datetime import timedelta,datetime\n",
    "import matplotlib.pyplot as plt\n",
    "import pandas as pd"
   ]
  },
  {
   "cell_type": "code",
   "execution_count": 9,
   "metadata": {},
   "outputs": [],
   "source": [
    "connection ={\n",
    "    'host': 'ENV-VAR',\n",
    "    'username': 'ENV-VAR',\n",
    "    'password': 'ENV-VAR,\n",
    "    'db': 'ENV-VAR'\n",
    "}"
   ]
  },
  {
   "cell_type": "code",
   "execution_count": 10,
   "metadata": {},
   "outputs": [],
   "source": [
    "#creating a connection\n",
    "con=pymysql.connect(connection['host'],connection['username'],connection['password'],connection['db'])"
   ]
  },
  {
   "cell_type": "code",
   "execution_count": 11,
   "metadata": {},
   "outputs": [],
   "source": [
    "#creating a cursor\n",
    "cursor=con.cursor()\n",
    "input_table = \"SELECT customerUUID AS customer_id, DATE(pointAccumulationDate) AS trans_date, amount AS tran_amount FROM customerPointAccumulation;\"\n",
    "cursor.execute(input_table)\n",
    "result= cursor.fetchall()\n",
    "\n",
    "\n",
    "# to print and see\n",
    "#for row in result:\n",
    "    #print(row)\n",
    "    #print(\"\\n\")\n",
    "    \n"
   ]
  },
  {
   "cell_type": "code",
   "execution_count": 12,
   "metadata": {},
   "outputs": [
    {
     "data": {
      "text/plain": [
       "Index(['customer_id', 'trans_date', 'tran_amount'], dtype='object')"
      ]
     },
     "execution_count": 12,
     "metadata": {},
     "output_type": "execute_result"
    }
   ],
   "source": [
    "#get column headers printed\n",
    "sales1 = pd.read_sql(input_table,con)\n",
    "sales = pd.read_sql(input_table,con)\n",
    "sales.columns"
   ]
  },
  {
   "cell_type": "code",
   "execution_count": 13,
   "metadata": {},
   "outputs": [
    {
     "name": "stdout",
     "output_type": "stream",
     "text": [
      "15 rows; 3 columns\n"
     ]
    }
   ],
   "source": [
    "#get number of rows and columns in the input table\n",
    "\n",
    "print('{:,} rows; {:,} columns'.format(sales.shape[0], sales.shape[1]))"
   ]
  },
  {
   "cell_type": "code",
   "execution_count": 14,
   "metadata": {},
   "outputs": [
    {
     "name": "stdout",
     "output_type": "stream",
     "text": [
      "0 invoices don't have a customer id\n"
     ]
    }
   ],
   "source": [
    "#data cleaning ie., get how many invoices without customer id\n",
    "\n",
    "print('{:,} invoices don\\'t have a customer id'.format(sales[sales.customer_id.isnull()].shape[0]))"
   ]
  },
  {
   "cell_type": "code",
   "execution_count": 15,
   "metadata": {},
   "outputs": [],
   "source": [
    "#if we need to remove data of customers without customerid\n",
    "\n",
    "#sales.dropna(subset=['customer_id'], inplace=True)"
   ]
  },
  {
   "cell_type": "code",
   "execution_count": 16,
   "metadata": {},
   "outputs": [
    {
     "name": "stdout",
     "output_type": "stream",
     "text": [
      "Orders from 2019-10-22 to 2019-10-29\n"
     ]
    }
   ],
   "source": [
    "#to get the date range of existing customerTransactionHistory\n",
    "\n",
    "print('Orders from {} to {}'.format(sales['trans_date'].min(),sales['trans_date'].max()))"
   ]
  },
  {
   "cell_type": "code",
   "execution_count": 17,
   "metadata": {},
   "outputs": [],
   "source": [
    "#get todays date as reference\n",
    "#now=datetime.now()\n",
    "#print(now)"
   ]
  },
  {
   "cell_type": "code",
   "execution_count": 18,
   "metadata": {},
   "outputs": [
    {
     "data": {
      "text/plain": [
       "datetime.date(2019, 10, 30)"
      ]
     },
     "execution_count": 18,
     "metadata": {},
     "output_type": "execute_result"
    }
   ],
   "source": [
    "NOW = sales['trans_date'].max() + timedelta(days=1)\n",
    "NOW"
   ]
  },
  {
   "cell_type": "code",
   "execution_count": 19,
   "metadata": {},
   "outputs": [],
   "source": [
    "period = 365"
   ]
  },
  {
   "cell_type": "code",
   "execution_count": 20,
   "metadata": {},
   "outputs": [],
   "source": [
    "#adding column 'days in between' to calculate number of days from date of transaction \n",
    "\n",
    "sales['daysinbetween'] = sales['trans_date'].apply(lambda x: (NOW - x).days)"
   ]
  },
  {
   "cell_type": "code",
   "execution_count": 21,
   "metadata": {},
   "outputs": [
    {
     "name": "stdout",
     "output_type": "stream",
     "text": [
      "                             customer_id  trans_date  tran_amount  \\\n",
      "0   9985950c-2849-4c5a-b32b-87763b57d9b0  2019-10-22       5000.0   \n",
      "1   9985950c-2849-4c5a-b32b-87763b57d9b0  2019-10-22       1000.0   \n",
      "2   9985950c-2849-4c5a-b32b-87763b57d9b0  2019-10-22       2000.0   \n",
      "3   beec8873-3b07-4a9c-b34d-5535b58fa09a  2019-10-22       3000.0   \n",
      "4   9985950c-2849-4c5a-b32b-87763b57d9b0  2019-10-24       5000.0   \n",
      "5   e164eec3-e557-48f0-ba22-3618d06fe6cc  2019-10-25       8000.0   \n",
      "6   9985950c-2849-4c5a-b32b-87763b57d9b0  2019-10-29       1500.0   \n",
      "7   9985950c-2849-4c5a-b32b-87763b57d9b0  2019-10-29       1500.0   \n",
      "8   9985950c-2849-4c5a-b32b-87763b57d9b0  2019-10-29       1500.0   \n",
      "9   9985950c-2849-4c5a-b32b-87763b57d9b0  2019-10-29       2000.0   \n",
      "10  9985950c-2849-4c5a-b32b-87763b57d9b0  2019-10-29       1000.0   \n",
      "11  9985950c-2849-4c5a-b32b-87763b57d9b0  2019-10-29       1000.0   \n",
      "12  9985950c-2849-4c5a-b32b-87763b57d9b0  2019-10-29       4000.0   \n",
      "13  9985950c-2849-4c5a-b32b-87763b57d9b0  2019-10-29       3000.0   \n",
      "14  9985950c-2849-4c5a-b32b-87763b57d9b0  2019-10-29       3000.0   \n",
      "\n",
      "    daysinbetween  \n",
      "0               8  \n",
      "1               8  \n",
      "2               8  \n",
      "3               8  \n",
      "4               6  \n",
      "5               5  \n",
      "6               1  \n",
      "7               1  \n",
      "8               1  \n",
      "9               1  \n",
      "10              1  \n",
      "11              1  \n",
      "12              1  \n",
      "13              1  \n",
      "14              1  \n"
     ]
    }
   ],
   "source": [
    "print(sales)"
   ]
  },
  {
   "cell_type": "code",
   "execution_count": 22,
   "metadata": {},
   "outputs": [
    {
     "data": {
      "text/html": [
       "<div>\n",
       "<style scoped>\n",
       "    .dataframe tbody tr th:only-of-type {\n",
       "        vertical-align: middle;\n",
       "    }\n",
       "\n",
       "    .dataframe tbody tr th {\n",
       "        vertical-align: top;\n",
       "    }\n",
       "\n",
       "    .dataframe thead th {\n",
       "        text-align: right;\n",
       "    }\n",
       "</style>\n",
       "<table border=\"1\" class=\"dataframe\">\n",
       "  <thead>\n",
       "    <tr style=\"text-align: right;\">\n",
       "      <th></th>\n",
       "      <th>customer_id</th>\n",
       "      <th>Recency</th>\n",
       "      <th>Frequency</th>\n",
       "    </tr>\n",
       "  </thead>\n",
       "  <tbody>\n",
       "    <tr>\n",
       "      <td>0</td>\n",
       "      <td>9985950c-2849-4c5a-b32b-87763b57d9b0</td>\n",
       "      <td>1</td>\n",
       "      <td>13</td>\n",
       "    </tr>\n",
       "    <tr>\n",
       "      <td>1</td>\n",
       "      <td>beec8873-3b07-4a9c-b34d-5535b58fa09a</td>\n",
       "      <td>8</td>\n",
       "      <td>1</td>\n",
       "    </tr>\n",
       "    <tr>\n",
       "      <td>2</td>\n",
       "      <td>e164eec3-e557-48f0-ba22-3618d06fe6cc</td>\n",
       "      <td>5</td>\n",
       "      <td>1</td>\n",
       "    </tr>\n",
       "  </tbody>\n",
       "</table>\n",
       "</div>"
      ],
      "text/plain": [
       "                            customer_id  Recency  Frequency\n",
       "0  9985950c-2849-4c5a-b32b-87763b57d9b0        1         13\n",
       "1  beec8873-3b07-4a9c-b34d-5535b58fa09a        8          1\n",
       "2  e164eec3-e557-48f0-ba22-3618d06fe6cc        5          1"
      ]
     },
     "execution_count": 22,
     "metadata": {},
     "output_type": "execute_result"
    }
   ],
   "source": [
    "aggr = {\n",
    "    'daysinbetween': lambda x: x.min(),  # the number of days since last order (Recency)\n",
    "    'trans_date': lambda x: len([d for d in x if d >= NOW - timedelta(days=period)]), # the total number of orders in the last period (Frequency)\n",
    "}\n",
    "rfm = sales.groupby('customer_id').agg(aggr).reset_index()\n",
    "rfm.rename(columns={'daysinbetween': 'Recency', 'trans_date': 'Frequency'}, inplace=True)\n",
    "rfm.head()"
   ]
  },
  {
   "cell_type": "code",
   "execution_count": 23,
   "metadata": {},
   "outputs": [
    {
     "data": {
      "text/html": [
       "<div>\n",
       "<style scoped>\n",
       "    .dataframe tbody tr th:only-of-type {\n",
       "        vertical-align: middle;\n",
       "    }\n",
       "\n",
       "    .dataframe tbody tr th {\n",
       "        vertical-align: top;\n",
       "    }\n",
       "\n",
       "    .dataframe thead th {\n",
       "        text-align: right;\n",
       "    }\n",
       "</style>\n",
       "<table border=\"1\" class=\"dataframe\">\n",
       "  <thead>\n",
       "    <tr style=\"text-align: right;\">\n",
       "      <th></th>\n",
       "      <th>customer_id</th>\n",
       "      <th>Recency</th>\n",
       "      <th>Frequency</th>\n",
       "      <th>Monetary</th>\n",
       "    </tr>\n",
       "  </thead>\n",
       "  <tbody>\n",
       "    <tr>\n",
       "      <td>0</td>\n",
       "      <td>9985950c-2849-4c5a-b32b-87763b57d9b0</td>\n",
       "      <td>1</td>\n",
       "      <td>13</td>\n",
       "      <td>31500.0</td>\n",
       "    </tr>\n",
       "    <tr>\n",
       "      <td>1</td>\n",
       "      <td>beec8873-3b07-4a9c-b34d-5535b58fa09a</td>\n",
       "      <td>8</td>\n",
       "      <td>1</td>\n",
       "      <td>3000.0</td>\n",
       "    </tr>\n",
       "    <tr>\n",
       "      <td>2</td>\n",
       "      <td>e164eec3-e557-48f0-ba22-3618d06fe6cc</td>\n",
       "      <td>5</td>\n",
       "      <td>1</td>\n",
       "      <td>8000.0</td>\n",
       "    </tr>\n",
       "  </tbody>\n",
       "</table>\n",
       "</div>"
      ],
      "text/plain": [
       "                            customer_id  Recency  Frequency  Monetary\n",
       "0  9985950c-2849-4c5a-b32b-87763b57d9b0        1         13   31500.0\n",
       "1  beec8873-3b07-4a9c-b34d-5535b58fa09a        8          1    3000.0\n",
       "2  e164eec3-e557-48f0-ba22-3618d06fe6cc        5          1    8000.0"
      ]
     },
     "execution_count": 23,
     "metadata": {},
     "output_type": "execute_result"
    }
   ],
   "source": [
    "rfm['Monetary'] = rfm['customer_id'].apply(lambda x: sales[(sales['customer_id'] == x) & \\\n",
    "                                                           (sales['trans_date'] >= NOW - timedelta(days=period))]\\\n",
    "                                                           ['tran_amount'].sum())\n",
    "rfm.head()"
   ]
  },
  {
   "cell_type": "code",
   "execution_count": 24,
   "metadata": {},
   "outputs": [
    {
     "data": {
      "text/plain": [
       "{'Recency': {0.2: 2.6, 0.4: 4.2, 0.6: 5.6, 0.8: 6.800000000000001},\n",
       " 'Frequency': {0.2: 1.0,\n",
       "  0.4: 1.0,\n",
       "  0.6: 3.3999999999999995,\n",
       "  0.8: 8.200000000000001},\n",
       " 'Monetary': {0.2: 5000.0,\n",
       "  0.4: 7000.0,\n",
       "  0.6: 12699.999999999998,\n",
       "  0.8: 22100.000000000004}}"
      ]
     },
     "execution_count": 24,
     "metadata": {},
     "output_type": "execute_result"
    }
   ],
   "source": [
    "quintiles = rfm[['Recency', 'Frequency', 'Monetary']].quantile([.2, .4, .6, .8]).to_dict()\n",
    "quintiles"
   ]
  },
  {
   "cell_type": "code",
   "execution_count": 25,
   "metadata": {},
   "outputs": [],
   "source": [
    "def r_score(x):\n",
    "    if x <= quintiles['Recency'][.2]:\n",
    "        return 5\n",
    "    elif x <= quintiles['Recency'][.4]:\n",
    "        return 4\n",
    "    elif x <= quintiles['Recency'][.6]:\n",
    "        return 3\n",
    "    elif x <= quintiles['Recency'][.8]:\n",
    "        return 2\n",
    "    else:\n",
    "        return 1\n",
    "    \n",
    "def fm_score(x, c):\n",
    "    if x <= quintiles[c][.2]:\n",
    "        return 1\n",
    "    elif x <= quintiles[c][.4]:\n",
    "        return 2\n",
    "    elif x <= quintiles[c][.6]:\n",
    "        return 3\n",
    "    elif x <= quintiles[c][.8]:\n",
    "        return 4\n",
    "    else:\n",
    "        return 5    "
   ]
  },
  {
   "cell_type": "code",
   "execution_count": 26,
   "metadata": {},
   "outputs": [],
   "source": [
    "rfm['R'] = rfm['Recency'].apply(lambda x: r_score(x))\n",
    "rfm['F'] = rfm['Frequency'].apply(lambda x: fm_score(x, 'Frequency'))\n",
    "rfm['M'] = rfm['Monetary'].apply(lambda x: fm_score(x, 'Monetary'))"
   ]
  },
  {
   "cell_type": "code",
   "execution_count": 27,
   "metadata": {},
   "outputs": [
    {
     "data": {
      "text/html": [
       "<div>\n",
       "<style scoped>\n",
       "    .dataframe tbody tr th:only-of-type {\n",
       "        vertical-align: middle;\n",
       "    }\n",
       "\n",
       "    .dataframe tbody tr th {\n",
       "        vertical-align: top;\n",
       "    }\n",
       "\n",
       "    .dataframe thead th {\n",
       "        text-align: right;\n",
       "    }\n",
       "</style>\n",
       "<table border=\"1\" class=\"dataframe\">\n",
       "  <thead>\n",
       "    <tr style=\"text-align: right;\">\n",
       "      <th></th>\n",
       "      <th>customer_id</th>\n",
       "      <th>Recency</th>\n",
       "      <th>Frequency</th>\n",
       "      <th>Monetary</th>\n",
       "      <th>R</th>\n",
       "      <th>F</th>\n",
       "      <th>M</th>\n",
       "      <th>RFM Score</th>\n",
       "    </tr>\n",
       "  </thead>\n",
       "  <tbody>\n",
       "    <tr>\n",
       "      <td>0</td>\n",
       "      <td>9985950c-2849-4c5a-b32b-87763b57d9b0</td>\n",
       "      <td>1</td>\n",
       "      <td>13</td>\n",
       "      <td>31500.0</td>\n",
       "      <td>5</td>\n",
       "      <td>5</td>\n",
       "      <td>5</td>\n",
       "      <td>555</td>\n",
       "    </tr>\n",
       "    <tr>\n",
       "      <td>1</td>\n",
       "      <td>beec8873-3b07-4a9c-b34d-5535b58fa09a</td>\n",
       "      <td>8</td>\n",
       "      <td>1</td>\n",
       "      <td>3000.0</td>\n",
       "      <td>1</td>\n",
       "      <td>1</td>\n",
       "      <td>1</td>\n",
       "      <td>111</td>\n",
       "    </tr>\n",
       "    <tr>\n",
       "      <td>2</td>\n",
       "      <td>e164eec3-e557-48f0-ba22-3618d06fe6cc</td>\n",
       "      <td>5</td>\n",
       "      <td>1</td>\n",
       "      <td>8000.0</td>\n",
       "      <td>3</td>\n",
       "      <td>1</td>\n",
       "      <td>3</td>\n",
       "      <td>313</td>\n",
       "    </tr>\n",
       "  </tbody>\n",
       "</table>\n",
       "</div>"
      ],
      "text/plain": [
       "                            customer_id  Recency  Frequency  Monetary  R  F  \\\n",
       "0  9985950c-2849-4c5a-b32b-87763b57d9b0        1         13   31500.0  5  5   \n",
       "1  beec8873-3b07-4a9c-b34d-5535b58fa09a        8          1    3000.0  1  1   \n",
       "2  e164eec3-e557-48f0-ba22-3618d06fe6cc        5          1    8000.0  3  1   \n",
       "\n",
       "   M RFM Score  \n",
       "0  5       555  \n",
       "1  1       111  \n",
       "2  3       313  "
      ]
     },
     "execution_count": 27,
     "metadata": {},
     "output_type": "execute_result"
    }
   ],
   "source": [
    "rfm['RFM Score'] = rfm['R'].map(str) + rfm['F'].map(str) + rfm['M'].map(str)\n",
    "rfm.head()"
   ]
  },
  {
   "cell_type": "code",
   "execution_count": null,
   "metadata": {
    "collapsed": true
   },
   "outputs": [],
   "source": []
  }
 ],
 "metadata": {
  "kernelspec": {
   "display_name": "Python 3",
   "language": "python",
   "name": "python3"
  },
  "language_info": {
   "codemirror_mode": {
    "name": "ipython",
    "version": 3
   },
   "file_extension": ".py",
   "mimetype": "text/x-python",
   "name": "python",
   "nbconvert_exporter": "python",
   "pygments_lexer": "ipython3",
   "version": "3.7.4"
  }
 },
 "nbformat": 4,
 "nbformat_minor": 2
}
